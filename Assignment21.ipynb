{
 "cells": [
  {
   "cell_type": "code",
   "execution_count": 11,
   "metadata": {},
   "outputs": [
    {
     "name": "stdout",
     "output_type": "stream",
     "text": [
      "2021-05-30\n"
     ]
    }
   ],
   "source": [
    "#1. Add the current date to the text file today.txt as a string.\n",
    "import datetime\n",
    "dtfile= open(\"today.txt\",\"w+\")\n",
    "time=datetime.date.today()\n",
    "print(str(time))\n",
    "dtfile.write(str(time))\n",
    "dtfile.close()"
   ]
  },
  {
   "cell_type": "code",
   "execution_count": 12,
   "metadata": {},
   "outputs": [
    {
     "data": {
      "text/plain": [
       "'2021-05-30'"
      ]
     },
     "execution_count": 12,
     "metadata": {},
     "output_type": "execute_result"
    }
   ],
   "source": [
    "#2. Read the text file today.txt into the string today_string\n",
    "dtfile= open(\"today.txt\",\"r\")\n",
    "today_string=dtfile.read()\n",
    "today_string"
   ]
  },
  {
   "cell_type": "code",
   "execution_count": 18,
   "metadata": {},
   "outputs": [
    {
     "name": "stdout",
     "output_type": "stream",
     "text": [
      "<class 'datetime.date'>\n",
      "2021-05-30\n"
     ]
    }
   ],
   "source": [
    "#3. Parse the date from today_string.\n",
    "from datetime import datetime\n",
    "dtfile= open(\"today.txt\",\"r\")\n",
    "today_string=dtfile.read()\n",
    "date_object = datetime.strptime(today_string, '%Y-%m-%d').date()\n",
    "print(type(date_object))\n",
    "print(date_object) "
   ]
  },
  {
   "cell_type": "code",
   "execution_count": 21,
   "metadata": {},
   "outputs": [
    {
     "name": "stdout",
     "output_type": "stream",
     "text": [
      "['.conda', '.condarc', '.idea', '.ipynb_checkpoints', '.ipython', '.jupyter', '3D Objects', 'anaconda3', 'anusha', 'AppData', 'Application Data', 'Assignment16.ipynb', 'Assignment17.ipynb', 'Assignment18.ipynb', 'Assignment19.ipynb', 'Assignment20.ipynb', 'Assignment21.ipynb', 'book.csv', 'books.db', 'Contacts', 'Cookies', 'Desktop', 'Documents', 'Downloads', 'Favorites', 'IntelGraphicsProfiles', 'Links', 'Local Settings', 'MicrosoftEdgeBackups', 'Music', 'My Documents', 'NetHood', 'NTUSER.DAT', 'ntuser.dat.LOG1', 'ntuser.dat.LOG2', 'NTUSER.DAT{53b39e88-18c4-11ea-a811-000d3aa4692b}.TM.blf', 'NTUSER.DAT{53b39e88-18c4-11ea-a811-000d3aa4692b}.TMContainer00000000000000000001.regtrans-ms', 'NTUSER.DAT{53b39e88-18c4-11ea-a811-000d3aa4692b}.TMContainer00000000000000000002.regtrans-ms', 'ntuser.ini', 'OneDrive', 'Pictures', 'Postman', 'PrintHood', 'programLog.txt', 'Recent', 'Saved Games', 'Searches', 'SendTo', 'software', 'Start Menu', 'Templates', 'test1.txt', 'today.txt', 'transparentImage.png', 'Untitled.ipynb', 'Untitled1.ipynb', 'Untitled2.ipynb', 'Untitled3.ipynb', 'Videos', 'zoo.py', '__pycache__']\n"
     ]
    }
   ],
   "source": [
    "#4. List the files in your current directory\n",
    "import os\n",
    "\n",
    "files=os.listdir('/Users/hp')\n",
    "print(files)\n"
   ]
  },
  {
   "cell_type": "code",
   "execution_count": 25,
   "metadata": {},
   "outputs": [
    {
     "data": {
      "text/plain": [
       "['Assignment16.ipynb',\n",
       " 'Assignment17.ipynb',\n",
       " 'Assignment18.ipynb',\n",
       " 'Assignment19.ipynb']"
      ]
     },
     "execution_count": 25,
     "metadata": {},
     "output_type": "execute_result"
    }
   ],
   "source": [
    "#5. Create a list of all of the files in your parent directory (minimum five files should be available).\n",
    "import os\n",
    "\n",
    "asps = []\n",
    "for root, dirs, files in os.walk(r'/Users/hp/anusha'):\n",
    "    for file in files:\n",
    "        if file.endswith('.ipynb'):\n",
    "            asps.append(file)\n",
    "asps"
   ]
  },
  {
   "cell_type": "code",
   "execution_count": 27,
   "metadata": {},
   "outputs": [
    {
     "name": "stdout",
     "output_type": "stream",
     "text": [
      "1622422509.654434\n",
      "1622422512.6688879\n",
      "1622422515.6719167\n"
     ]
    }
   ],
   "source": [
    "#6. Use multiprocessing to create three separate processes.\n",
    "#Make each one wait a random number of seconds between one and five, print the current time, and then exit.\n",
    "import random\n",
    "import multiprocessing\n",
    "import time \n",
    "for i in range(3):\n",
    "    process = multiprocessing.Process()\n",
    "    process.start()\n",
    "    worker_time = random.choice(range(1, 5))\n",
    "    time.sleep(worker_time)\n",
    "    print(time.time())\n",
    "    process.kill()\n",
    "        "
   ]
  },
  {
   "cell_type": "code",
   "execution_count": 28,
   "metadata": {},
   "outputs": [
    {
     "name": "stdout",
     "output_type": "stream",
     "text": [
      "2019-04-13\n"
     ]
    }
   ],
   "source": [
    "#7. Create a date object of your day of birth.\n",
    "\n",
    "import datetime\n",
    "\n",
    "d = datetime.date(2019, 4, 13)\n",
    "print(d)"
   ]
  },
  {
   "cell_type": "code",
   "execution_count": 32,
   "metadata": {},
   "outputs": [
    {
     "name": "stdout",
     "output_type": "stream",
     "text": [
      "5\n"
     ]
    }
   ],
   "source": [
    "#8. What day of the week was your day of birth?\n",
    "import datetime\n",
    "\n",
    "d = datetime.date(2019, 4, 13).weekday()\n",
    "print(d)"
   ]
  },
  {
   "cell_type": "code",
   "execution_count": 37,
   "metadata": {},
   "outputs": [
    {
     "name": "stdout",
     "output_type": "stream",
     "text": [
      "2046-08-29 00:00:00\n"
     ]
    }
   ],
   "source": [
    "#9. When will you be (or when were you) 10,000 days old?\n",
    "from datetime import datetime, timedelta\n",
    "dateold=datetime(2019, 4, 13)\n",
    "newdate= dateold +timedelta(10000)\n",
    "print(newdate)"
   ]
  },
  {
   "cell_type": "code",
   "execution_count": null,
   "metadata": {},
   "outputs": [],
   "source": []
  }
 ],
 "metadata": {
  "kernelspec": {
   "display_name": "Python 3",
   "language": "python",
   "name": "python3"
  },
  "language_info": {
   "codemirror_mode": {
    "name": "ipython",
    "version": 3
   },
   "file_extension": ".py",
   "mimetype": "text/x-python",
   "name": "python",
   "nbconvert_exporter": "python",
   "pygments_lexer": "ipython3",
   "version": "3.8.5"
  }
 },
 "nbformat": 4,
 "nbformat_minor": 4
}
