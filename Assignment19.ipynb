{
 "cells": [
  {
   "cell_type": "code",
   "execution_count": 6,
   "metadata": {},
   "outputs": [
    {
     "name": "stdout",
     "output_type": "stream",
     "text": [
      "<class '__main__.Thing'>\n",
      "<__main__.Thing object at 0x000001456953C310>\n"
     ]
    }
   ],
   "source": [
    "#1. Make a class called Thing with no contents and print it. \n",
    "#Then, create an object called example from this class and also print it. \n",
    "#Are the printed values the same or different?\n",
    "\n",
    "class Thing:\n",
    "    pass\n",
    "    \n",
    "print(Thing)\n",
    "\n",
    "example =Thing()\n",
    "print(example)\n",
    "\n",
    "#printed values are different"
   ]
  },
  {
   "cell_type": "code",
   "execution_count": 9,
   "metadata": {},
   "outputs": [
    {
     "name": "stdout",
     "output_type": "stream",
     "text": [
      "abc\n"
     ]
    }
   ],
   "source": [
    "#Create a new class called Thing2 and add the value 'abc' to the letters class attribute. Letters should be printed.\n",
    "\n",
    "class Thing2:\n",
    "    letters='abc'\n",
    "\n",
    "print(Thing2.letters)"
   ]
  },
  {
   "cell_type": "code",
   "execution_count": 11,
   "metadata": {},
   "outputs": [
    {
     "data": {
      "text/plain": [
       "'xyz'"
      ]
     },
     "execution_count": 11,
     "metadata": {},
     "output_type": "execute_result"
    }
   ],
   "source": [
    "#3. Make yet another class called, of course, Thing3. This time, assign the value 'xyz' to an instance (object) attribute called letters.\n",
    "#Print letters.Do you need to make an object from the class to do this?\n",
    "class Thing3:\n",
    "    def   __init__(self):\n",
    "        self.letters= 'xyz'\n",
    "\n",
    "xyz =Thing3()\n",
    "xyz.letters\n",
    "\n",
    "#We cannot access instance variable without creating object"
   ]
  },
  {
   "cell_type": "code",
   "execution_count": 16,
   "metadata": {},
   "outputs": [],
   "source": [
    "#4. Create an Element class with the instance attributes name, symbol, and number. \n",
    "#Create a class object with the values 'Hydrogen,' 'H,' and 1.\n",
    "class Element:\n",
    "     def   __init__(self,name,symbol,number):\n",
    "            self.name=name\n",
    "            self.symbol=symbol\n",
    "            self.number=number\n",
    "            \n",
    "ele=Element('Hydrogen', 'H' , 1)"
   ]
  },
  {
   "cell_type": "code",
   "execution_count": 19,
   "metadata": {},
   "outputs": [
    {
     "data": {
      "text/plain": [
       "'Hydrogen'"
      ]
     },
     "execution_count": 19,
     "metadata": {},
     "output_type": "execute_result"
    }
   ],
   "source": [
    "#5. Make a dictionary with these keys and values: 'name': 'Hydrogen', 'symbol': 'H', 'number': 1. \n",
    "#Then, create an object called hydrogen from class Element using this dictionary.\n",
    "\n",
    "dict1={'name':'Hydrogen','symbol':'H','number':1}\n",
    "hydrogen =Element(dict1['name'],dict1['symbol'],dict1['number'])\n",
    "hydrogen.name"
   ]
  },
  {
   "cell_type": "code",
   "execution_count": 36,
   "metadata": {},
   "outputs": [
    {
     "name": "stdout",
     "output_type": "stream",
     "text": [
      "name Hydrogen\n",
      "symbol H\n",
      "number 1\n"
     ]
    }
   ],
   "source": [
    "#6. For the Element class, define a method called dump() that prints the values of the object’s attributes (name, symbol, and number). \n",
    "#Create the hydrogen object from this new definition and use dump() to print its attributes.\n",
    "class Element:\n",
    "    def   __init__(self,name,symbol,number):\n",
    "            self.name=name\n",
    "            self.symbol=symbol\n",
    "            self.number=number            \n",
    "    def dump(self):\n",
    "        print(\"name\",self.name)\n",
    "        print(\"symbol\",self.symbol)\n",
    "        print(\"number\",self.number)\n",
    " \n",
    "hydrogen = Element(**dict1)\n",
    "hydrogen.dump()\n",
    "  "
   ]
  },
  {
   "cell_type": "code",
   "execution_count": 56,
   "metadata": {
    "scrolled": true
   },
   "outputs": [
    {
     "name": "stdout",
     "output_type": "stream",
     "text": [
      "name=Hydrogen, symbol=H, number=1\n"
     ]
    }
   ],
   "source": [
    "#7. Call print(hydrogen). In the definition of Element, \n",
    "#change the name of method dump to __str__, create a new hydrogen object, and call print(hydrogen) again.\n",
    "class Element:\n",
    "    def   __init__(self,name,symbol,number):\n",
    "            self.name=name\n",
    "            self.symbol=symbol\n",
    "            self.number=number            \n",
    "    def __str__(self):\n",
    "           return  ('name=%s, symbol=%s, number=%s' %(self.name, self.symbol, self.number))\n",
    "        \n",
    "hydrogen = Element(**dict1)\n",
    "print(hydrogen)\n"
   ]
  },
  {
   "cell_type": "code",
   "execution_count": 61,
   "metadata": {},
   "outputs": [
    {
     "data": {
      "text/plain": [
       "'Hydrogen'"
      ]
     },
     "execution_count": 61,
     "metadata": {},
     "output_type": "execute_result"
    }
   ],
   "source": [
    "#8. Modify Element to make the attributes name, symbol, and number private. \n",
    "#Define a getter property for each to return its value.\n",
    "class Element:\n",
    "    def   __init__(self,name,symbol,number):\n",
    "            self.__name=name\n",
    "            self.__symbol=symbol\n",
    "            self.__number=number\n",
    "            \n",
    "    @property\n",
    "    def name(self):\n",
    "        return self.__name\n",
    "    \n",
    "    @property\n",
    "    def symbol(self):\n",
    "        return self.__symbol\n",
    "    \n",
    "    @property\n",
    "    def number(self):\n",
    "        return self.__number\n",
    "    \n",
    "hydrogen = Element('Hydrogen', 'H', 1)\n",
    "hydrogen.name"
   ]
  },
  {
   "cell_type": "code",
   "execution_count": 64,
   "metadata": {},
   "outputs": [
    {
     "name": "stdout",
     "output_type": "stream",
     "text": [
      "berries\n",
      "clover\n",
      "campers\n"
     ]
    }
   ],
   "source": [
    "#9. Define three classes: Bear, Rabbit, and Octothorpe. For each, define only one method: eats(). \n",
    "#This should return 'berries' (Bear), 'clover' (Rabbit), or 'campers' (Octothorpe). \n",
    "#Create one object from each and print what it eats.\n",
    "class Bear:     \n",
    "    def eats(self):\n",
    "        return 'berries'\n",
    "\n",
    "class Rabbit:     \n",
    "    def eats(self):\n",
    "        return 'clover'\n",
    "    \n",
    "class Octothorpe:     \n",
    "    def eats(self):\n",
    "        return 'campers'\n",
    "    \n",
    "bear=Bear()\n",
    "rabbit=Rabbit()\n",
    "octo=Octothorpe()\n",
    "\n",
    "print(bear.eats())\n",
    "print(rabbit.eats())\n",
    "print(octo.eats())\n"
   ]
  },
  {
   "cell_type": "code",
   "execution_count": 67,
   "metadata": {},
   "outputs": [
    {
     "name": "stdout",
     "output_type": "stream",
     "text": [
      "Laser disintegrate\n",
      "Claw crush\n",
      "SmartPhone ring\n"
     ]
    }
   ],
   "source": [
    "#10. Define these classes: Laser, Claw, and SmartPhone. Each has only one method: does(). \n",
    "#This returns 'disintegrate' (Laser), 'crush' (Claw), or 'ring' (SmartPhone). \n",
    "#Then, define the class Robot that has one instance (object) of each of these. \n",
    "#Define a does() method for the Robot that prints what its component objects do.\n",
    "class Laser:\n",
    "    def does(self):\n",
    "        return 'disintegrate'\n",
    "    \n",
    "class Claw:\n",
    "    def does(self):\n",
    "        return 'crush'\n",
    "    \n",
    "class SmartPhone:\n",
    "    def does(self):\n",
    "        return 'ring'\n",
    "class Robot:\n",
    "    def __init__(self):\n",
    "        self.laser = Laser()\n",
    "        self.claw = Claw()\n",
    "        self.smartphone = SmartPhone()\n",
    "    def does(self):\n",
    "        print(\"Laser\",self.laser.does())\n",
    "        print(\"Claw\",self.claw.does())\n",
    "        print(\"SmartPhone\",self.smartphone.does())\n",
    "        \n",
    "robot=Robot()\n",
    "robot.does()"
   ]
  },
  {
   "cell_type": "code",
   "execution_count": null,
   "metadata": {},
   "outputs": [],
   "source": []
  }
 ],
 "metadata": {
  "kernelspec": {
   "display_name": "Python 3",
   "language": "python",
   "name": "python3"
  },
  "language_info": {
   "codemirror_mode": {
    "name": "ipython",
    "version": 3
   },
   "file_extension": ".py",
   "mimetype": "text/x-python",
   "name": "python",
   "nbconvert_exporter": "python",
   "pygments_lexer": "ipython3",
   "version": "3.8.5"
  }
 },
 "nbformat": 4,
 "nbformat_minor": 4
}
